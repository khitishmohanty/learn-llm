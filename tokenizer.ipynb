{
 "cells": [
  {
   "cell_type": "markdown",
   "id": "0358861d",
   "metadata": {},
   "source": [
    "### Load dataset"
   ]
  },
  {
   "cell_type": "code",
   "execution_count": 1,
   "id": "6842a98b",
   "metadata": {},
   "outputs": [
    {
     "name": "stdout",
     "output_type": "stream",
     "text": [
      "Number of characters: 20479\n",
      "Number of lines: 165\n",
      "Number of words: 3634\n",
      "Number of paragraphs: 82\n",
      "Number of sentences: 260\n"
     ]
    }
   ],
   "source": [
    "with open(\"data/the-verdict.txt\", \"r\", encoding=\"utf-8\") as file:\n",
    "    lines = file.readlines()\n",
    "    \n",
    "print (\"Number of characters:\", len(\"\".join(lines)))\n",
    "print(\"Number of lines:\", len(lines))\n",
    "print(\"Number of words:\", sum(len(line.split()) for line in lines))\n",
    "print(\"Number of paragraphs:\", sum(1 for line in lines if line.strip() == \"\"))\n",
    "print(\"Number of sentences:\", sum(line.count('.') + line.count('!') + line.count('?') for line in lines))"
   ]
  },
  {
   "cell_type": "markdown",
   "id": "42d1923c",
   "metadata": {},
   "source": [
    "### Tokenization\n",
    "**Goal:** Tokenise 20479 characters"
   ]
  },
  {
   "cell_type": "code",
   "execution_count": 2,
   "id": "7ca55c2e",
   "metadata": {},
   "outputs": [
    {
     "name": "stdout",
     "output_type": "stream",
     "text": [
      "Number of tokens: 4690\n"
     ]
    }
   ],
   "source": [
    "import re # Tokenization\n",
    "# Tokenize the text into words\n",
    "# This regex matches words, including those with apostrophes and hyphens\n",
    "\n",
    "text = \"\".join(lines)\n",
    "tokens = re.split(r'([,.:;?_!\"()\\']|--|\\s)', text)\n",
    "tokens = [token for token in tokens if token.strip()]  # Remove empty tokens\n",
    "print(\"Number of tokens:\", len(tokens))"
   ]
  },
  {
   "cell_type": "markdown",
   "id": "3982e3d8",
   "metadata": {},
   "source": [
    "**Goal:** Converting tokens into token IDs\n",
    "1. Build vocabulary: List of tokens sorted in an alphabetical order\n",
    "2. Assign a number to each token"
   ]
  },
  {
   "cell_type": "code",
   "execution_count": 3,
   "id": "570d99bc",
   "metadata": {},
   "outputs": [
    {
     "name": "stdout",
     "output_type": "stream",
     "text": [
      "Vocabulary size: 1130\n"
     ]
    }
   ],
   "source": [
    "all_words = sorted(set(tokens))\n",
    "print(\"Vocabulary size:\", len(all_words))"
   ]
  },
  {
   "cell_type": "markdown",
   "id": "f8ebcd25",
   "metadata": {},
   "source": [
    "**Goal:** Create vocabulary itself."
   ]
  },
  {
   "cell_type": "code",
   "execution_count": 4,
   "id": "626bbacd",
   "metadata": {},
   "outputs": [
    {
     "name": "stdout",
     "output_type": "stream",
     "text": [
      "0: ('!', 0)\n",
      "1: ('\"', 1)\n",
      "2: (\"'\", 2)\n",
      "3: ('(', 3)\n",
      "4: (')', 4)\n",
      "5: (',', 5)\n",
      "6: ('--', 6)\n",
      "7: ('.', 7)\n",
      "8: (':', 8)\n",
      "9: (';', 9)\n",
      "10: ('?', 10)\n"
     ]
    }
   ],
   "source": [
    "vocab= {token: integer for integer, token in enumerate(all_words)}\n",
    "for i,item in enumerate(vocab.items()):\n",
    "    print(f\"{i}: {item}\")\n",
    "    if i>=10:\n",
    "        break"
   ]
  },
  {
   "cell_type": "markdown",
   "id": "7f2117e2",
   "metadata": {},
   "source": [
    "**Goal:** Create a tokenizer class\n",
    "1. Encoder\n",
    "2. Decoder"
   ]
  },
  {
   "cell_type": "code",
   "execution_count": 5,
   "id": "34a2119d",
   "metadata": {},
   "outputs": [],
   "source": [
    "class TokenizerV1:\n",
    "    def __init__(self, vocab): # Initialize the tokenizer with a vocabulary\n",
    "        \"\"\"        Args:\n",
    "            vocab (dict): A dictionary mapping tokens to unique integer IDs.\n",
    "        \"\"\"\n",
    "        self.str_to_int = vocab\n",
    "        self.int_to_str = {v: k for k, v in vocab.items()}\n",
    "\n",
    "    def encode(self, text): # Tokenization\n",
    "        # Split the text into tokens using regex\n",
    "        # This regex matches words, including those with apostrophes and hyphens\n",
    "        tokens = re.split(r'([,.:;?_!\"()\\']|--|\\s)', text)\n",
    "        tokens = [token for token in tokens if token.strip()]\n",
    "        token_ids = [self.str_to_int.get(token, -1) for token in tokens]\n",
    "        return [token_id for token_id in token_ids if token_id != -1]\n",
    "\n",
    "    def decode(self, token_ids):\n",
    "        text = ' '.join(self.int_to_str.get(token_id, '') for token_id in token_ids)\n",
    "        return text.replace('  ', ' ').strip() # Replace double spaces with single space"
   ]
  },
  {
   "cell_type": "code",
   "execution_count": 6,
   "id": "10e71f89",
   "metadata": {},
   "outputs": [
    {
     "name": "stdout",
     "output_type": "stream",
     "text": [
      "Encoded: [5, 0, 97, 584, 115, 7]\n",
      "Decoded: , ! This is a .\n",
      "Original text: Hello, world! This is a test.\n"
     ]
    }
   ],
   "source": [
    "tokenizer = TokenizerV1(vocab)\n",
    "# Example usage\n",
    "text = \"Hello, world! This is a test.\"\n",
    "encoded = tokenizer.encode(text)\n",
    "print(\"Encoded:\", encoded)\n",
    "decoded = tokenizer.decode(encoded)\n",
    "print(\"Decoded:\", decoded)\n",
    "print(\"Original text:\", text)"
   ]
  },
  {
   "cell_type": "markdown",
   "id": "efa028e4",
   "metadata": {},
   "source": [
    "### Adding special context tokens\n",
    "**Handle unknown tokens or unknown words**<br>\n",
    "Include 2 special tokens <|unknown|> and <|endoftext|> to the exsisting vocabulary"
   ]
  },
  {
   "cell_type": "code",
   "execution_count": 7,
   "id": "ccfea860",
   "metadata": {},
   "outputs": [
    {
     "name": "stdout",
     "output_type": "stream",
     "text": [
      "Vocabulary size: 1130\n",
      "New vocabulary size: 1132\n"
     ]
    }
   ],
   "source": [
    "print(\"Vocabulary size:\", len(all_words))\n",
    "all_tokens = sorted(list(set(tokens)))  \n",
    "all_tokens.extend(['<|unk|>', '<|endoftext|>'])  # Add special tokens\n",
    "vocab = {token: integer for integer, token in enumerate(all_tokens)}\n",
    "print(\"New vocabulary size:\", len(vocab.items()))  # Check the size of the vocabulary"
   ]
  },
  {
   "cell_type": "code",
   "execution_count": 8,
   "id": "8bb00320",
   "metadata": {},
   "outputs": [
    {
     "name": "stdout",
     "output_type": "stream",
     "text": [
      "0: ('younger', 1127)\n",
      "1: ('your', 1128)\n",
      "2: ('yourself', 1129)\n",
      "3: ('<|unk|>', 1130)\n",
      "4: ('<|endoftext|>', 1131)\n"
     ]
    }
   ],
   "source": [
    "for i, item in enumerate(list(vocab.items())[-5:]):\n",
    "    print(f\"{i}: {item}\")\n",
    "    if i >= 5:\n",
    "        break"
   ]
  },
  {
   "cell_type": "markdown",
   "id": "6eb787b2",
   "metadata": {},
   "source": [
    "**Goal:** Extend the previous tokeniser class\n",
    "1. Replace unknown/new words with <|unk|>\n",
    "2. Replace spaces"
   ]
  },
  {
   "cell_type": "code",
   "execution_count": 9,
   "id": "629c7677",
   "metadata": {},
   "outputs": [],
   "source": [
    "class TokenizerV2:\n",
    "    def __init__(self, vocab): # Initialize the tokenizer with a vocabulary\n",
    "        \"\"\"        Args:\n",
    "            vocab (dict): A dictionary mapping tokens to unique integer IDs.\n",
    "        \"\"\"\n",
    "        self.str_to_int = vocab\n",
    "        self.int_to_str = {v: k for k, v in vocab.items()}\n",
    "    \n",
    "    def encode(self, text):\n",
    "        preprocessed = re.split(r'([,.:;?_!\"()\\']|--|\\s)', text)\n",
    "        preprocessed = [item.strip() for item in preprocessed if item.strip()]\n",
    "        preprocessed = [\n",
    "            item if item in self.str_to_int \n",
    "            else \"<|unk|>\" for item in preprocessed\n",
    "        ]\n",
    "\n",
    "        ids = [self.str_to_int[s] for s in preprocessed]\n",
    "        return ids\n",
    "    \n",
    "    def decode(self, ids):\n",
    "        text = \" \".join([self.int_to_str[i] for i in ids])\n",
    "        # Replace spaces before the specified punctuations\n",
    "        text = re.sub(r'\\s+([,.:;?!\"()\\'])', r'\\1', text)\n",
    "        return text"
   ]
  },
  {
   "cell_type": "markdown",
   "id": "8186c81c",
   "metadata": {},
   "source": [
    "Test the tokeniser"
   ]
  },
  {
   "cell_type": "code",
   "execution_count": 10,
   "id": "37f9953b",
   "metadata": {},
   "outputs": [
    {
     "name": "stdout",
     "output_type": "stream",
     "text": [
      "Original text: Hello, do you like tea? <|endoftext|> In the sunlit terraces of the palace.\n",
      "Encoded: [1130, 5, 355, 1126, 628, 975, 10, 1131, 55, 988, 956, 984, 722, 988, 1130, 7]\n",
      "Decoded: <|unk|>, do you like tea? <|endoftext|> In the sunlit terraces of the <|unk|>.\n",
      "Original text: Hello, do you like tea? <|endoftext|> In the sunlit terraces of the palace.\n"
     ]
    }
   ],
   "source": [
    "tokenizer = TokenizerV2(vocab)\n",
    "\n",
    "text1 = \"Hello, do you like tea?\"\n",
    "text2 = \"In the sunlit terraces of the palace.\"\n",
    "\n",
    "text = \" <|endoftext|> \".join((text1, text2))\n",
    "print(\"Original text:\", text)\n",
    "encoded = tokenizer.encode(text)\n",
    "print(\"Encoded:\", encoded)\n",
    "decoded = tokenizer.decode(encoded)\n",
    "print(\"Decoded:\", decoded)\n",
    "print(\"Original text:\", text)"
   ]
  },
  {
   "cell_type": "markdown",
   "id": "a50af32f",
   "metadata": {},
   "source": [
    "### Byte-pair encoding (BPE)\n",
    "This encoding is used for training LLMs"
   ]
  },
  {
   "cell_type": "code",
   "execution_count": 13,
   "id": "ed6bd8ae",
   "metadata": {},
   "outputs": [
    {
     "name": "stdout",
     "output_type": "stream",
     "text": [
      "tiktoken version: 0.9.0\n"
     ]
    }
   ],
   "source": [
    "import importlib\n",
    "import tiktoken\n",
    "\n",
    "print(\"tiktoken version:\", importlib.metadata.version(\"tiktoken\"))"
   ]
  },
  {
   "cell_type": "code",
   "execution_count": 14,
   "id": "dc161c4a",
   "metadata": {},
   "outputs": [],
   "source": [
    "tokenizer = tiktoken.get_encoding(\"gpt2\")"
   ]
  },
  {
   "cell_type": "code",
   "execution_count": 15,
   "id": "9c48364d",
   "metadata": {},
   "outputs": [
    {
     "name": "stdout",
     "output_type": "stream",
     "text": [
      "[15496, 11, 466, 345, 588, 8887, 30, 220, 50256, 554, 262, 4252, 18250, 8812, 2114, 1659, 617, 34680, 27271, 13]\n"
     ]
    }
   ],
   "source": [
    "text = (\n",
    "    \"Hello, do you like tea? <|endoftext|> In the sunlit terraces\"\n",
    "     \"of someunknownPlace.\"\n",
    ")\n",
    "\n",
    "integers = tokenizer.encode(text, allowed_special={\"<|endoftext|>\"})\n",
    "\n",
    "print(integers)"
   ]
  },
  {
   "cell_type": "markdown",
   "id": "6f388639",
   "metadata": {},
   "source": [
    "**Test the encoder decoder model**"
   ]
  },
  {
   "cell_type": "code",
   "execution_count": 16,
   "id": "2007ff71",
   "metadata": {},
   "outputs": [
    {
     "name": "stdout",
     "output_type": "stream",
     "text": [
      "[33901, 86, 343, 86, 220, 959]\n",
      "Akwirw ier\n"
     ]
    }
   ],
   "source": [
    "integers = tokenizer.encode(\"Akwirw ier\")\n",
    "print(integers)\n",
    "\n",
    "strings = tokenizer.decode(integers)\n",
    "print(strings)"
   ]
  }
 ],
 "metadata": {
  "kernelspec": {
   "display_name": "km-llm",
   "language": "python",
   "name": "python3"
  },
  "language_info": {
   "codemirror_mode": {
    "name": "ipython",
    "version": 3
   },
   "file_extension": ".py",
   "mimetype": "text/x-python",
   "name": "python",
   "nbconvert_exporter": "python",
   "pygments_lexer": "ipython3",
   "version": "3.11.13"
  }
 },
 "nbformat": 4,
 "nbformat_minor": 5
}
